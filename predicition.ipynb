{
 "cells": [
  {
   "cell_type": "code",
   "execution_count": 2,
   "metadata": {},
   "outputs": [
    {
     "name": "stdout",
     "output_type": "stream",
     "text": [
      "No se puede abrir la camara\n",
      "no se pudo leer el frmae\n"
     ]
    },
    {
     "name": "stderr",
     "output_type": "stream",
     "text": [
      "[ WARN:0@23.780] global /croot/opencv-suite_1691620365762/work/modules/videoio/src/cap_gstreamer.cpp (862) isPipelinePlaying OpenCV | GStreamer warning: GStreamer: pipeline have not been created\n",
      "[ WARN:0@23.780] global /croot/opencv-suite_1691620365762/work/modules/videoio/src/cap_v4l.cpp (902) open VIDEOIO(V4L2:/dev/video0): can't open camera by index\n"
     ]
    },
    {
     "ename": "",
     "evalue": "",
     "output_type": "error",
     "traceback": [
      "\u001b[1;31mThe Kernel crashed while executing code in the current cell or a previous cell. \n",
      "\u001b[1;31mPlease review the code in the cell(s) to identify a possible cause of the failure. \n",
      "\u001b[1;31mClick <a href='https://aka.ms/vscodeJupyterKernelCrash'>here</a> for more info. \n",
      "\u001b[1;31mView Jupyter <a href='command:jupyter.viewOutput'>log</a> for further details."
     ]
    }
   ],
   "source": [
    "import cv2\n",
    "import tensorflow as tf\n",
    "import numpy as np\n",
    "import json\n",
    "json_file = \"dataKeys.json\"\n",
    "with open(json_file, \"r\") as json_file:\n",
    "    data_dict = json.load(json_file)\n",
    "mainModel = tf.keras.models.load_model('firstTry.h5')\n",
    "def preprocess_frame(frame):\n",
    "    input_size = (100,100)\n",
    "    resized_frame = cv2.resize(frame, input_size)\n",
    "    normalized_frame = resized_frame / 255.0\n",
    "    input_frame = tf.expand_dims(normalized_frame, axis=0)\n",
    "    return input_frame\n",
    "\n",
    "cap  = cv2.VideoCapture(0)\n",
    "if not cap.isOpened():\n",
    "    print(\"No se puede abrir la camara\")\n",
    "    exit()\n",
    "while True:\n",
    "    ret, frame = cap.read()\n",
    "    if not ret:\n",
    "        print(\"no se pudo leer el frmae\")\n",
    "        break\n",
    "    x, y, w, h = 100, 100, 200, 200\n",
    "    roi = frame[y:y+h, x:x+w]\n",
    "    cv2.rectangle(frame, (x, y), (x+w, y+h), (255, 0, 0), 2)\n",
    "\n",
    "    input_frame = preprocess_frame(roi) #frame\n",
    "    \n",
    "    predictions = mainModel.predict(input_frame)\n",
    "    predicted_class = np.argmax(predictions, axis=1)\n",
    "\n",
    "    predictionsText = f\"PredictionL { data_dict[predicted_class[0]]['name'] }\"\n",
    "    cv2.putText(frame, predictionsText, (x, y-10), cv2.FONT_HERSHEY_SIMPLEX, 1, (255, 0, 0), 2)\n",
    "    cv2.imshow('Trabajo final', frame)\n",
    "    \n",
    "    if cv2.waitKey(1) & 0xFF == ord('q'):\n",
    "        break\n",
    "\n",
    "cap.release()\n",
    "cv2.destroyAllWindows()\n",
    "    \n",
    "\n"
   ]
  },
  {
   "cell_type": "code",
   "execution_count": 3,
   "metadata": {},
   "outputs": [
    {
     "data": {
      "text/plain": [
       "'microcontrolador'"
      ]
     },
     "execution_count": 3,
     "metadata": {},
     "output_type": "execute_result"
    }
   ],
   "source": [
    "import json\n",
    "json_file = \"dataKeys.json\"\n",
    "with open(json_file, \"r\") as json_file:\n",
    "    data_dict = json.load(json_file)\n",
    "\n",
    "data_dict[\"0\"]['name']"
   ]
  },
  {
   "cell_type": "code",
   "execution_count": null,
   "metadata": {},
   "outputs": [],
   "source": []
  }
 ],
 "metadata": {
  "kernelspec": {
   "display_name": "course_av_proj",
   "language": "python",
   "name": "python3"
  },
  "language_info": {
   "codemirror_mode": {
    "name": "ipython",
    "version": 3
   },
   "file_extension": ".py",
   "mimetype": "text/x-python",
   "name": "python",
   "nbconvert_exporter": "python",
   "pygments_lexer": "ipython3",
   "version": "3.10.13"
  }
 },
 "nbformat": 4,
 "nbformat_minor": 2
}
