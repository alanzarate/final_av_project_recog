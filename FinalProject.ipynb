{
  "cells": [
    {
      "cell_type": "code",
      "execution_count": 1,
      "metadata": {
        "id": "ZQmotdMRuwN0"
      },
      "outputs": [],
      "source": [
        "# Definir las credentiales para acceder a Kaggle\n",
        "!mkdir ~/.kaggle\n",
        "!touch ~/.kaggle/kaggle.json\n",
        "\n",
        "#CREDENTIALS\n",
        "api_token = {\"username\":\"lanreaves\",\"key\":\"77a10244e730ea07039f98ac7807ed1e\"}\n",
        "\n",
        "import json\n",
        "\n",
        "# Crear un archivo con las credenciales para que Kaggle pueda acceder fácilmente a él.\n",
        "with open('/root/.kaggle/kaggle.json', 'w') as file:\n",
        "    json.dump(api_token, file)\n",
        "\n",
        "!chmod 600 ~/.kaggle/kaggle.json"
      ]
    },
    {
      "cell_type": "code",
      "execution_count": 8,
      "metadata": {
        "colab": {
          "base_uri": "https://localhost:8080/"
        },
        "id": "BbbJKxmqvgev",
        "outputId": "d50b7240-ea57-4052-8748-a0c0b5312476"
      },
      "outputs": [
        {
          "name": "stdout",
          "output_type": "stream",
          "text": [
            "Dataset URL: https://www.kaggle.com/datasets/lanreaves/electronic-products\n"
          ]
        }
      ],
      "source": [
        "from kaggle.api.kaggle_api_extended import KaggleApi\n",
        "\n",
        "# Initialize Kaggle API\n",
        "api = KaggleApi()\n",
        "api.authenticate()\n",
        "\n",
        "# Specify the dataset you want to download\n",
        "dataset_name = 'lanreaves/electronic-products'\n",
        "\n",
        "# Download the dataset\n",
        "api.dataset_download_files(dataset_name, unzip=True)"
      ]
    },
    {
      "cell_type": "code",
      "execution_count": 10,
      "metadata": {
        "colab": {
          "base_uri": "https://localhost:8080/"
        },
        "id": "AhSiGZDhv6OT",
        "outputId": "b90a22b3-f4c0-4c9f-ef4e-4d8b4e8ea9f1"
      },
      "outputs": [
        {
          "name": "stdout",
          "output_type": "stream",
          "text": [
            "46680\n"
          ]
        }
      ],
      "source": [
        "!ls -1  /content/final_dataset_reduced/images_final_reduced | wc -l"
      ]
    },
    {
      "cell_type": "code",
      "execution_count": 4,
      "metadata": {
        "colab": {
          "base_uri": "https://localhost:8080/"
        },
        "id": "VTWPBZByv967",
        "outputId": "d78ab26e-c718-4b96-a91b-5c60186f9162"
      },
      "outputs": [
        {
          "name": "stdout",
          "output_type": "stream",
          "text": [
            "23340\n"
          ]
        }
      ],
      "source": [
        "import pandas as pd\n",
        "preDF = pd.read_csv(\"prod_data_images_v3.csv\")\n",
        "n = int(preDF.shape[0]*0.5)\n",
        "print(n)\n",
        "df = preDF.sample(n = n, random_state=40)"
      ]
    },
    {
      "cell_type": "code",
      "execution_count": 5,
      "metadata": {
        "colab": {
          "base_uri": "https://localhost:8080/",
          "height": 300
        },
        "id": "X8ep0OAhxKY2",
        "outputId": "38c3923f-8565-4a9c-aa98-47865aac3025"
      },
      "outputs": [
        {
          "data": {
            "text/html": [
              "<div>\n",
              "<style scoped>\n",
              "    .dataframe tbody tr th:only-of-type {\n",
              "        vertical-align: middle;\n",
              "    }\n",
              "\n",
              "    .dataframe tbody tr th {\n",
              "        vertical-align: top;\n",
              "    }\n",
              "\n",
              "    .dataframe thead th {\n",
              "        text-align: right;\n",
              "    }\n",
              "</style>\n",
              "<table border=\"1\" class=\"dataframe\">\n",
              "  <thead>\n",
              "    <tr style=\"text-align: right;\">\n",
              "      <th></th>\n",
              "      <th>type_id</th>\n",
              "      <th>category_id</th>\n",
              "    </tr>\n",
              "  </thead>\n",
              "  <tbody>\n",
              "    <tr>\n",
              "      <th>count</th>\n",
              "      <td>23340.000000</td>\n",
              "      <td>23340.000000</td>\n",
              "    </tr>\n",
              "    <tr>\n",
              "      <th>mean</th>\n",
              "      <td>27.530934</td>\n",
              "      <td>3.426907</td>\n",
              "    </tr>\n",
              "    <tr>\n",
              "      <th>std</th>\n",
              "      <td>22.499787</td>\n",
              "      <td>2.322219</td>\n",
              "    </tr>\n",
              "    <tr>\n",
              "      <th>min</th>\n",
              "      <td>0.000000</td>\n",
              "      <td>0.000000</td>\n",
              "    </tr>\n",
              "    <tr>\n",
              "      <th>25%</th>\n",
              "      <td>7.000000</td>\n",
              "      <td>1.000000</td>\n",
              "    </tr>\n",
              "    <tr>\n",
              "      <th>50%</th>\n",
              "      <td>21.000000</td>\n",
              "      <td>4.000000</td>\n",
              "    </tr>\n",
              "    <tr>\n",
              "      <th>75%</th>\n",
              "      <td>54.000000</td>\n",
              "      <td>5.000000</td>\n",
              "    </tr>\n",
              "    <tr>\n",
              "      <th>max</th>\n",
              "      <td>61.000000</td>\n",
              "      <td>7.000000</td>\n",
              "    </tr>\n",
              "  </tbody>\n",
              "</table>\n",
              "</div>"
            ],
            "text/plain": [
              "            type_id   category_id\n",
              "count  23340.000000  23340.000000\n",
              "mean      27.530934      3.426907\n",
              "std       22.499787      2.322219\n",
              "min        0.000000      0.000000\n",
              "25%        7.000000      1.000000\n",
              "50%       21.000000      4.000000\n",
              "75%       54.000000      5.000000\n",
              "max       61.000000      7.000000"
            ]
          },
          "execution_count": 5,
          "metadata": {},
          "output_type": "execute_result"
        }
      ],
      "source": [
        "df.describe()"
      ]
    },
    {
      "cell_type": "code",
      "execution_count": 6,
      "metadata": {
        "colab": {
          "base_uri": "https://localhost:8080/",
          "height": 472
        },
        "id": "wHlGZlyaytrq",
        "outputId": "784ed42f-b81c-4de5-e504-330a6b208c0e"
      },
      "outputs": [
        {
          "data": {
            "image/png": "[encoded data removed]",
            "text/plain": [
              "<Figure size 640x480 with 1 Axes>"
            ]
          },
          "metadata": {},
          "output_type": "display_data"
        }
      ],
      "source": [
        "import matplotlib.pyplot as plt\n",
        "value_cou = df['category'].value_counts()\n",
        "plt.bar(value_cou.index, value_cou.values)\n",
        "plt.xlabel(\"category\")\n",
        "plt.ylabel('Count')\n",
        "plt.title(f'Bar graph based on instances of values in category')\n",
        "plt.show()"
      ]
    },
    {
      "cell_type": "code",
      "execution_count": 7,
      "metadata": {
        "colab": {
          "base_uri": "https://localhost:8080/"
        },
        "id": "pMZMMpqyzVCv",
        "outputId": "ba12f997-ef77-4477-e718-14eacc07dca7"
      },
      "outputs": [
        {
          "data": {
            "text/plain": [
              "Index(['microcontrolador', 'resistencia', 'rele', 'transistor', 'diodo',\n",
              "       'sensor', 'capacitor', 'servomotor'],\n",
              "      dtype='object')"
            ]
          },
          "execution_count": 7,
          "metadata": {},
          "output_type": "execute_result"
        }
      ],
      "source": [
        "_ , mapReplacement = pd.factorize(df['category'])\n",
        "\n",
        "mapReplacement"
      ]
    },
    {
      "cell_type": "code",
      "execution_count": 8,
      "metadata": {
        "id": "DQ217r0xHbPV"
      },
      "outputs": [],
      "source": [
        "import cv2\n",
        "import numpy as np\n",
        "totalImages = []\n",
        "for index, row in df.iterrows():\n",
        "    uuid = row[\"UUID\"]\n",
        "    routeImage =  f\"images_final_reduced_100/{uuid}.jpg\"\n",
        "    image = cv2.imread(routeImage)\n",
        "    image_rgb = cv2.cvtColor(image, cv2.COLOR_BGR2RGB)\n",
        "    totalImages.append(image_rgb)\n",
        "\n",
        "imagesLoaded = np.array(totalImages)\n",
        "categories = df['category_id'].to_numpy()\n",
        "\n"
      ]
    },
    {
      "cell_type": "code",
      "execution_count": 9,
      "metadata": {
        "id": "Z--RYXhqIyCC"
      },
      "outputs": [],
      "source": [
        "from sklearn.model_selection import train_test_split\n",
        "X_train_sub, X_test , y_train_sub, y_test = train_test_split(\n",
        "    imagesLoaded, categories, test_size=0.10, random_state=42)\n",
        "X_train, X_test_val, y_train, y_test_val = train_test_split(\n",
        "    X_train_sub, y_train_sub, test_size=0.20, random_state=42)"
      ]
    },
    {
      "cell_type": "code",
      "execution_count": 10,
      "metadata": {
        "id": "O1Ywuy0dKi5A"
      },
      "outputs": [],
      "source": [
        "X_train, X_test_val, X_test = X_train / 255.0, X_test_val / 255.0, X_test / 255.0"
      ]
    },
    {
      "cell_type": "code",
      "execution_count": null,
      "metadata": {
        "id": "rwpqrTWCKvHm"
      },
      "outputs": [],
      "source": []
    },
    {
      "cell_type": "code",
      "execution_count": 10,
      "metadata": {
        "id": "X5S1zxFNxL9S"
      },
      "outputs": [],
      "source": [
        "import tensorflow as tf\n",
        "from tensorflow.keras.models import Sequential\n",
        "from tensorflow.keras.layers import Conv2D, MaxPooling2D, Flatten, Dense, Dropout\n",
        "from tensorflow.keras.preprocessing.image import ImageDataGenerator\n",
        "from tensorflow.keras.optimizers import Adam\n",
        "\n",
        "img_height, img_width, img_channels = 100, 100, 3\n",
        "num_classes = 8\n",
        "\n",
        "\n"
      ]
    },
    {
      "cell_type": "code",
      "execution_count": 11,
      "metadata": {
        "id": "9dMreUdGxts2"
      },
      "outputs": [
        {
          "name": "stderr",
          "output_type": "stream",
          "text": [
            "2024-06-02 20:54:37.787324: I tensorflow/core/common_runtime/process_util.cc:146] Creating new thread pool with default inter op setting: 2. Tune using inter_op_parallelism_threads for best performance.\n"
          ]
        },
        {
          "name": "stdout",
          "output_type": "stream",
          "text": [
            "Model: \"sequential\"\n",
            "_________________________________________________________________\n",
            " Layer (type)                Output Shape              Param #   \n",
            "=================================================================\n",
            " conv2d (Conv2D)             (None, 98, 98, 32)        896       \n",
            "                                                                 \n",
            " max_pooling2d (MaxPooling2D  (None, 49, 49, 32)       0         \n",
            " )                                                               \n",
            "                                                                 \n",
            " conv2d_1 (Conv2D)           (None, 47, 47, 64)        18496     \n",
            "                                                                 \n",
            " max_pooling2d_1 (MaxPooling  (None, 23, 23, 64)       0         \n",
            " 2D)                                                             \n",
            "                                                                 \n",
            " conv2d_2 (Conv2D)           (None, 21, 21, 128)       73856     \n",
            "                                                                 \n",
            " max_pooling2d_2 (MaxPooling  (None, 10, 10, 128)      0         \n",
            " 2D)                                                             \n",
            "                                                                 \n",
            " conv2d_3 (Conv2D)           (None, 8, 8, 128)         147584    \n",
            "                                                                 \n",
            " max_pooling2d_3 (MaxPooling  (None, 4, 4, 128)        0         \n",
            " 2D)                                                             \n",
            "                                                                 \n",
            " conv2d_4 (Conv2D)           (None, 2, 2, 256)         295168    \n",
            "                                                                 \n",
            " max_pooling2d_4 (MaxPooling  (None, 1, 1, 256)        0         \n",
            " 2D)                                                             \n",
            "                                                                 \n",
            " flatten (Flatten)           (None, 256)               0         \n",
            "                                                                 \n",
            " dense (Dense)               (None, 512)               131584    \n",
            "                                                                 \n",
            " dropout (Dropout)           (None, 512)               0         \n",
            "                                                                 \n",
            " dense_1 (Dense)             (None, 256)               131328    \n",
            "                                                                 \n",
            " dropout_1 (Dropout)         (None, 256)               0         \n",
            "                                                                 \n",
            " dense_2 (Dense)             (None, 128)               32896     \n",
            "                                                                 \n",
            " dropout_2 (Dropout)         (None, 128)               0         \n",
            "                                                                 \n",
            " dense_3 (Dense)             (None, 64)                8256      \n",
            "                                                                 \n",
            " dropout_3 (Dropout)         (None, 64)                0         \n",
            "                                                                 \n",
            " dense_4 (Dense)             (None, 8)                 520       \n",
            "                                                                 \n",
            "=================================================================\n",
            "Total params: 840,584\n",
            "Trainable params: 840,584\n",
            "Non-trainable params: 0\n",
            "_________________________________________________________________\n"
          ]
        }
      ],
      "source": [
        "model = Sequential()\n",
        "model.add(Conv2D(32, (3, 3), activation='relu', input_shape=(img_height, img_width, img_channels)))\n",
        "model.add(MaxPooling2D((2, 2)))\n",
        "#second\n",
        "model.add(Conv2D(64, (3, 3), activation='relu'))\n",
        "model.add(MaxPooling2D((2, 2)))\n",
        "#third\n",
        "model.add(Conv2D(128, (3, 3), activation='relu'))\n",
        "model.add(MaxPooling2D((2, 2)))\n",
        "#4\n",
        "model.add(Conv2D(128, (3, 3), activation='relu'))\n",
        "model.add(MaxPooling2D((2, 2)))\n",
        "#5\n",
        "model.add(Conv2D(256, (3, 3), activation='relu'))\n",
        "model.add(MaxPooling2D((2, 2)))\n",
        "\n",
        "model.add(Flatten())\n",
        "\n",
        "model.add(Dense(512, activation='relu'))\n",
        "model.add(Dropout(0.5))\n",
        "model.add(Dense(256, activation='relu'))\n",
        "model.add(Dropout(0.5))\n",
        "model.add(Dense(128, activation='relu'))\n",
        "model.add(Dropout(0.5))\n",
        "model.add(Dense(64, activation='relu'))\n",
        "model.add(Dropout(0.5))\n",
        "\n",
        "#output\n",
        "model.add(Dense(num_classes, activation='softmax'))\n",
        "\n",
        "\n",
        "model.compile(optimizer=Adam(),\n",
        "              loss='sparse_categorical_crossentropy',\n",
        "              metrics=['accuracy'])\n",
        "\n",
        "\n",
        "model.summary()\n",
        "\n",
        "\n"
      ]
    },
    {
      "cell_type": "code",
      "execution_count": 14,
      "metadata": {
        "id": "YW_DFOBKK_FA"
      },
      "outputs": [
        {
          "name": "stdout",
          "output_type": "stream",
          "text": [
            "Epoch 1/15\n",
            "263/263 [==============================] - 274s 1s/step - loss: 0.8663 - accuracy: 0.6338 - val_loss: 0.7833 - val_accuracy: 0.6585\n",
            "Epoch 2/15\n",
            "263/263 [==============================] - 243s 923ms/step - loss: 0.8043 - accuracy: 0.6569 - val_loss: 0.7750 - val_accuracy: 0.6704\n",
            "Epoch 3/15\n",
            "263/263 [==============================] - 245s 933ms/step - loss: 0.7649 - accuracy: 0.6870 - val_loss: 0.6952 - val_accuracy: 0.7158\n",
            "Epoch 4/15\n",
            "263/263 [==============================] - 230s 877ms/step - loss: 0.6962 - accuracy: 0.7117 - val_loss: 0.6848 - val_accuracy: 0.7213\n",
            "Epoch 5/15\n",
            "263/263 [==============================] - 189s 718ms/step - loss: 0.6407 - accuracy: 0.7389 - val_loss: 0.6363 - val_accuracy: 0.7373\n",
            "Epoch 6/15\n",
            "263/263 [==============================] - 205s 778ms/step - loss: 0.6004 - accuracy: 0.7629 - val_loss: 0.6948 - val_accuracy: 0.7287\n",
            "Epoch 7/15\n",
            "263/263 [==============================] - 243s 925ms/step - loss: 0.5835 - accuracy: 0.7767 - val_loss: 0.7076 - val_accuracy: 0.7313\n",
            "Epoch 8/15\n",
            "263/263 [==============================] - 280s 1s/step - loss: 0.5934 - accuracy: 0.7760 - val_loss: 0.6256 - val_accuracy: 0.7780\n",
            "Epoch 9/15\n",
            "263/263 [==============================] - 267s 1s/step - loss: 0.5233 - accuracy: 0.8047 - val_loss: 0.6131 - val_accuracy: 0.7980\n",
            "Epoch 10/15\n",
            "263/263 [==============================] - 267s 1s/step - loss: 0.4853 - accuracy: 0.8258 - val_loss: 0.7265 - val_accuracy: 0.7294\n",
            "Epoch 11/15\n",
            "263/263 [==============================] - 261s 990ms/step - loss: 0.5063 - accuracy: 0.8103 - val_loss: 0.6449 - val_accuracy: 0.7601\n",
            "Epoch 12/15\n",
            "263/263 [==============================] - 247s 938ms/step - loss: 0.4317 - accuracy: 0.8413 - val_loss: 0.6806 - val_accuracy: 0.7956\n",
            "Epoch 13/15\n",
            "263/263 [==============================] - 185s 701ms/step - loss: 0.4341 - accuracy: 0.8441 - val_loss: 0.6365 - val_accuracy: 0.7941\n",
            "Epoch 14/15\n",
            "263/263 [==============================] - 179s 680ms/step - loss: 0.4041 - accuracy: 0.8550 - val_loss: 0.6298 - val_accuracy: 0.8118\n",
            "Epoch 15/15\n",
            "263/263 [==============================] - 188s 714ms/step - loss: 0.3694 - accuracy: 0.8672 - val_loss: 0.7003 - val_accuracy: 0.8101\n"
          ]
        }
      ],
      "source": [
        "history = model.fit(X_train, y_train , epochs=15,\n",
        "                    validation_data=(X_test_val , y_test_val),\n",
        "                    batch_size=64)\n",
        "#h5 format\n",
        "model.save(\"firstTry.h5\")"
      ]
    },
    {
      "cell_type": "code",
      "execution_count": 2,
      "metadata": {},
      "outputs": [
        {
          "name": "stderr",
          "output_type": "stream",
          "text": [
            "2024-06-03 08:54:28.992113: I tensorflow/core/platform/cpu_feature_guard.cc:182] This TensorFlow binary is optimized to use available CPU instructions in performance-critical operations.\n",
            "To enable the following instructions: SSE4.1 SSE4.2 AVX AVX2 FMA, in other operations, rebuild TensorFlow with the appropriate compiler flags.\n",
            "2024-06-03 08:54:31.036470: I tensorflow/core/common_runtime/process_util.cc:146] Creating new thread pool with default inter op setting: 2. Tune using inter_op_parallelism_threads for best performance.\n"
          ]
        }
      ],
      "source": [
        "import tensorflow as tf\n",
        "from tensorflow import keras\n",
        "from tensorflow.keras import layers\n",
        "import numpy as np\n",
        "\n",
        "loaded_model = keras.models.load_model('firstTry.h5')"
      ]
    },
    {
      "cell_type": "code",
      "execution_count": 11,
      "metadata": {
        "id": "dkhF9IZvLOu2"
      },
      "outputs": [
        {
          "name": "stdout",
          "output_type": "stream",
          "text": [
            "73/73 [==============================] - 8s 108ms/step - loss: 0.7497 - accuracy: 0.7952\n",
            "Test accuracy: 0.7952013611793518\n"
          ]
        }
      ],
      "source": [
        "test_loss, test_acc = loaded_model.evaluate(X_test, y_test)\n",
        "print(f'Test accuracy: {test_acc}')"
      ]
    },
    {
      "cell_type": "markdown",
      "metadata": {},
      "source": [
        "Train for 7 categories"
      ]
    },
    {
      "cell_type": "code",
      "execution_count": null,
      "metadata": {},
      "outputs": [],
      "source": [
        "# category 1: microcontrolador\n"
      ]
    }
  ],
  "metadata": {
    "accelerator": "GPU",
    "colab": {
      "gpuType": "T4",
      "provenance": []
    },
    "kernelspec": {
      "display_name": "Python 3",
      "name": "python3"
    },
    "language_info": {
      "codemirror_mode": {
        "name": "ipython",
        "version": 3
      },
      "file_extension": ".py",
      "mimetype": "text/x-python",
      "name": "python",
      "nbconvert_exporter": "python",
      "pygments_lexer": "ipython3",
      "version": "3.10.13"
    }
  },
  "nbformat": 4,
  "nbformat_minor": 0
}
