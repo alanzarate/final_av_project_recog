{
  "cells": [
    {
      "cell_type": "code",
      "execution_count": 53,
      "metadata": {
        "id": "ZQmotdMRuwN0"
      },
      "outputs": [
        {
          "name": "stdout",
          "output_type": "stream",
          "text": [
            "/usr/bin/zsh: /home/lan/miniconda3/envs/course_av_proj/lib/python3.10/site-packages/cv2/../../../../lib/libtinfo.so.6: no version information available (required by /usr/bin/zsh)\n",
            "/usr/bin/zsh: /home/lan/miniconda3/envs/course_av_proj/lib/python3.10/site-packages/cv2/../../../../lib/libtinfo.so.6: no version information available (required by /usr/bin/zsh)\n"
          ]
        },
        {
          "ename": "PermissionError",
          "evalue": "[Errno 13] Permission denied: '/root/.kaggle/kaggle.json'",
          "output_type": "error",
          "traceback": [
            "\u001b[0;31m---------------------------------------------------------------------------\u001b[0m",
            "\u001b[0;31mPermissionError\u001b[0m                           Traceback (most recent call last)",
            "Cell \u001b[0;32mIn[53], line 11\u001b[0m\n\u001b[1;32m      8\u001b[0m \u001b[38;5;28;01mimport\u001b[39;00m \u001b[38;5;21;01mjson\u001b[39;00m\n\u001b[1;32m     10\u001b[0m \u001b[38;5;66;03m# Crear un archivo con las credenciales para que Kaggle pueda acceder fácilmente a él.\u001b[39;00m\n\u001b[0;32m---> 11\u001b[0m \u001b[38;5;28;01mwith\u001b[39;00m \u001b[38;5;28;43mopen\u001b[39;49m\u001b[43m(\u001b[49m\u001b[38;5;124;43m'\u001b[39;49m\u001b[38;5;124;43m/root/.kaggle/kaggle.json\u001b[39;49m\u001b[38;5;124;43m'\u001b[39;49m\u001b[43m,\u001b[49m\u001b[43m \u001b[49m\u001b[38;5;124;43m'\u001b[39;49m\u001b[38;5;124;43mw\u001b[39;49m\u001b[38;5;124;43m'\u001b[39;49m\u001b[43m)\u001b[49m \u001b[38;5;28;01mas\u001b[39;00m file:\n\u001b[1;32m     12\u001b[0m     json\u001b[38;5;241m.\u001b[39mdump(api_token, file)\n\u001b[1;32m     14\u001b[0m get_ipython()\u001b[38;5;241m.\u001b[39msystem(\u001b[38;5;124m'\u001b[39m\u001b[38;5;124mchmod 600 ~/.kaggle/kaggle.json\u001b[39m\u001b[38;5;124m'\u001b[39m)\n",
            "File \u001b[0;32m~/miniconda3/envs/course_av_proj/lib/python3.10/site-packages/IPython/core/interactiveshell.py:310\u001b[0m, in \u001b[0;36m_modified_open\u001b[0;34m(file, *args, **kwargs)\u001b[0m\n\u001b[1;32m    303\u001b[0m \u001b[38;5;28;01mif\u001b[39;00m file \u001b[38;5;129;01min\u001b[39;00m {\u001b[38;5;241m0\u001b[39m, \u001b[38;5;241m1\u001b[39m, \u001b[38;5;241m2\u001b[39m}:\n\u001b[1;32m    304\u001b[0m     \u001b[38;5;28;01mraise\u001b[39;00m \u001b[38;5;167;01mValueError\u001b[39;00m(\n\u001b[1;32m    305\u001b[0m         \u001b[38;5;124mf\u001b[39m\u001b[38;5;124m\"\u001b[39m\u001b[38;5;124mIPython won\u001b[39m\u001b[38;5;124m'\u001b[39m\u001b[38;5;124mt let you open fd=\u001b[39m\u001b[38;5;132;01m{\u001b[39;00mfile\u001b[38;5;132;01m}\u001b[39;00m\u001b[38;5;124m by default \u001b[39m\u001b[38;5;124m\"\u001b[39m\n\u001b[1;32m    306\u001b[0m         \u001b[38;5;124m\"\u001b[39m\u001b[38;5;124mas it is likely to crash IPython. If you know what you are doing, \u001b[39m\u001b[38;5;124m\"\u001b[39m\n\u001b[1;32m    307\u001b[0m         \u001b[38;5;124m\"\u001b[39m\u001b[38;5;124myou can use builtins\u001b[39m\u001b[38;5;124m'\u001b[39m\u001b[38;5;124m open.\u001b[39m\u001b[38;5;124m\"\u001b[39m\n\u001b[1;32m    308\u001b[0m     )\n\u001b[0;32m--> 310\u001b[0m \u001b[38;5;28;01mreturn\u001b[39;00m \u001b[43mio_open\u001b[49m\u001b[43m(\u001b[49m\u001b[43mfile\u001b[49m\u001b[43m,\u001b[49m\u001b[43m \u001b[49m\u001b[38;5;241;43m*\u001b[39;49m\u001b[43margs\u001b[49m\u001b[43m,\u001b[49m\u001b[43m \u001b[49m\u001b[38;5;241;43m*\u001b[39;49m\u001b[38;5;241;43m*\u001b[39;49m\u001b[43mkwargs\u001b[49m\u001b[43m)\u001b[49m\n",
            "\u001b[0;31mPermissionError\u001b[0m: [Errno 13] Permission denied: '/root/.kaggle/kaggle.json'"
          ]
        }
      ],
      "source": [
        "# Definir las credentiales para acceder a Kaggle\n",
        "!mkdir ~/.kaggle\n",
        "!touch ~/.kaggle/kaggle.json\n",
        "\n",
        "#CREDENTIALS\n",
        "api_token = {\"username\":\"lanreaves\",\"key\":\"77a10244e730ea07039f98ac7807ed1e\"}\n",
        "\n",
        "import json\n",
        "\n",
        "# Crear un archivo con las credenciales para que Kaggle pueda acceder fácilmente a él.\n",
        "with open('/root/.kaggle/kaggle.json', 'w') as file:\n",
        "    json.dump(api_token, file)\n",
        "\n",
        "!chmod 600 ~/.kaggle/kaggle.json"
      ]
    },
    {
      "cell_type": "code",
      "execution_count": null,
      "metadata": {
        "colab": {
          "base_uri": "https://localhost:8080/"
        },
        "id": "BbbJKxmqvgev",
        "outputId": "d50b7240-ea57-4052-8748-a0c0b5312476"
      },
      "outputs": [
        {
          "name": "stdout",
          "output_type": "stream",
          "text": [
            "Dataset URL: https://www.kaggle.com/datasets/lanreaves/electronic-products\n"
          ]
        }
      ],
      "source": [
        "from kaggle.api.kaggle_api_extended import KaggleApi\n",
        "\n",
        "# Initialize Kaggle API\n",
        "api = KaggleApi()\n",
        "api.authenticate()\n",
        "\n",
        "# Specify the dataset you want to download\n",
        "dataset_name = 'lanreaves/electronic-products'\n",
        "\n",
        "# Download the dataset\n",
        "api.dataset_download_files(dataset_name, unzip=True)"
      ]
    },
    {
      "cell_type": "code",
      "execution_count": null,
      "metadata": {
        "colab": {
          "base_uri": "https://localhost:8080/"
        },
        "id": "AhSiGZDhv6OT",
        "outputId": "b90a22b3-f4c0-4c9f-ef4e-4d8b4e8ea9f1"
      },
      "outputs": [
        {
          "name": "stdout",
          "output_type": "stream",
          "text": [
            "46680\n"
          ]
        }
      ],
      "source": [
        "!ls -1  /content/final_dataset_reduced/images_final_reduced | wc -l"
      ]
    },
    {
      "cell_type": "code",
      "execution_count": null,
      "metadata": {
        "colab": {
          "base_uri": "https://localhost:8080/"
        },
        "id": "VTWPBZByv967",
        "outputId": "d78ab26e-c718-4b96-a91b-5c60186f9162"
      },
      "outputs": [
        {
          "name": "stdout",
          "output_type": "stream",
          "text": [
            "23340\n"
          ]
        }
      ],
      "source": [
        "import pandas as pd\n",
        "preDF = pd.read_csv(\"prod_data_images_v3.csv\")\n",
        "n = int(preDF.shape[0]*0.5)\n",
        "print(n)\n",
        "df = preDF.sample(n = n, random_state=40)"
      ]
    },
    {
      "cell_type": "code",
      "execution_count": null,
      "metadata": {
        "colab": {
          "base_uri": "https://localhost:8080/",
          "height": 300
        },
        "id": "X8ep0OAhxKY2",
        "outputId": "38c3923f-8565-4a9c-aa98-47865aac3025"
      },
      "outputs": [
        {
          "data": {
            "text/html": [
              "<div>\n",
              "<style scoped>\n",
              "    .dataframe tbody tr th:only-of-type {\n",
              "        vertical-align: middle;\n",
              "    }\n",
              "\n",
              "    .dataframe tbody tr th {\n",
              "        vertical-align: top;\n",
              "    }\n",
              "\n",
              "    .dataframe thead th {\n",
              "        text-align: right;\n",
              "    }\n",
              "</style>\n",
              "<table border=\"1\" class=\"dataframe\">\n",
              "  <thead>\n",
              "    <tr style=\"text-align: right;\">\n",
              "      <th></th>\n",
              "      <th>type_id</th>\n",
              "      <th>category_id</th>\n",
              "    </tr>\n",
              "  </thead>\n",
              "  <tbody>\n",
              "    <tr>\n",
              "      <th>count</th>\n",
              "      <td>23340.000000</td>\n",
              "      <td>23340.000000</td>\n",
              "    </tr>\n",
              "    <tr>\n",
              "      <th>mean</th>\n",
              "      <td>27.530934</td>\n",
              "      <td>3.426907</td>\n",
              "    </tr>\n",
              "    <tr>\n",
              "      <th>std</th>\n",
              "      <td>22.499787</td>\n",
              "      <td>2.322219</td>\n",
              "    </tr>\n",
              "    <tr>\n",
              "      <th>min</th>\n",
              "      <td>0.000000</td>\n",
              "      <td>0.000000</td>\n",
              "    </tr>\n",
              "    <tr>\n",
              "      <th>25%</th>\n",
              "      <td>7.000000</td>\n",
              "      <td>1.000000</td>\n",
              "    </tr>\n",
              "    <tr>\n",
              "      <th>50%</th>\n",
              "      <td>21.000000</td>\n",
              "      <td>4.000000</td>\n",
              "    </tr>\n",
              "    <tr>\n",
              "      <th>75%</th>\n",
              "      <td>54.000000</td>\n",
              "      <td>5.000000</td>\n",
              "    </tr>\n",
              "    <tr>\n",
              "      <th>max</th>\n",
              "      <td>61.000000</td>\n",
              "      <td>7.000000</td>\n",
              "    </tr>\n",
              "  </tbody>\n",
              "</table>\n",
              "</div>"
            ],
            "text/plain": [
              "            type_id   category_id\n",
              "count  23340.000000  23340.000000\n",
              "mean      27.530934      3.426907\n",
              "std       22.499787      2.322219\n",
              "min        0.000000      0.000000\n",
              "25%        7.000000      1.000000\n",
              "50%       21.000000      4.000000\n",
              "75%       54.000000      5.000000\n",
              "max       61.000000      7.000000"
            ]
          },
          "execution_count": 2,
          "metadata": {},
          "output_type": "execute_result"
        }
      ],
      "source": [
        "df.describe()"
      ]
    },
    {
      "cell_type": "code",
      "execution_count": null,
      "metadata": {
        "colab": {
          "base_uri": "https://localhost:8080/",
          "height": 472
        },
        "id": "wHlGZlyaytrq",
        "outputId": "784ed42f-b81c-4de5-e504-330a6b208c0e"
      },
      "outputs": [
        {
          "data": {
            "image/png": "[encoded data removed]",
            "text/plain": [
              "<Figure size 640x480 with 1 Axes>"
            ]
          },
          "metadata": {},
          "output_type": "display_data"
        }
      ],
      "source": [
        "import matplotlib.pyplot as plt\n",
        "value_cou = df['category'].value_counts()\n",
        "plt.bar(value_cou.index, value_cou.values)\n",
        "plt.xlabel(\"category\")\n",
        "plt.ylabel('Count')\n",
        "plt.title(f'Bar graph based on instances of values in category')\n",
        "plt.show()"
      ]
    },
    {
      "cell_type": "code",
      "execution_count": null,
      "metadata": {
        "colab": {
          "base_uri": "https://localhost:8080/"
        },
        "id": "pMZMMpqyzVCv",
        "outputId": "ba12f997-ef77-4477-e718-14eacc07dca7"
      },
      "outputs": [
        {
          "data": {
            "text/plain": [
              "Index(['microcontrolador', 'resistencia', 'rele', 'transistor', 'diodo',\n",
              "       'sensor', 'capacitor', 'servomotor'],\n",
              "      dtype='object')"
            ]
          },
          "execution_count": 4,
          "metadata": {},
          "output_type": "execute_result"
        }
      ],
      "source": [
        "_ , mapReplacement = pd.factorize(df['category'])\n",
        "\n",
        "mapReplacement"
      ]
    },
    {
      "cell_type": "code",
      "execution_count": null,
      "metadata": {
        "id": "DQ217r0xHbPV"
      },
      "outputs": [],
      "source": [
        "import cv2\n",
        "import numpy as np\n",
        "totalImages = []\n",
        "for index, row in df.iterrows():\n",
        "    uuid = row[\"UUID\"]\n",
        "    routeImage =  f\"../images_final_reduced_100/{uuid}.jpg\"\n",
        "    image = cv2.imread(routeImage)\n",
        "    image_rgb = cv2.cvtColor(image, cv2.COLOR_BGR2RGB)\n",
        "    totalImages.append(image_rgb)\n",
        "\n",
        "imagesLoaded = np.array(totalImages)\n",
        "categories = df['category_id'].to_numpy()\n",
        "\n"
      ]
    },
    {
      "cell_type": "code",
      "execution_count": null,
      "metadata": {
        "id": "Z--RYXhqIyCC"
      },
      "outputs": [],
      "source": [
        "from sklearn.model_selection import train_test_split\n",
        "X_train_sub, X_test , y_train_sub, y_test = train_test_split(\n",
        "    imagesLoaded, categories, test_size=0.10, random_state=42)\n",
        "X_train, X_test_val, y_train, y_test_val = train_test_split(\n",
        "    X_train_sub, y_train_sub, test_size=0.20, random_state=42)"
      ]
    },
    {
      "cell_type": "code",
      "execution_count": null,
      "metadata": {
        "id": "O1Ywuy0dKi5A"
      },
      "outputs": [],
      "source": [
        "X_train, X_test_val, X_test = X_train / 255.0, X_test_val / 255.0, X_test / 255.0"
      ]
    },
    {
      "cell_type": "code",
      "execution_count": null,
      "metadata": {
        "id": "rwpqrTWCKvHm"
      },
      "outputs": [],
      "source": []
    },
    {
      "cell_type": "code",
      "execution_count": null,
      "metadata": {
        "id": "X5S1zxFNxL9S"
      },
      "outputs": [],
      "source": [
        "import tensorflow as tf\n",
        "from tensorflow.keras.models import Sequential\n",
        "from tensorflow.keras.layers import Conv2D, MaxPooling2D, Flatten, Dense, Dropout\n",
        "from tensorflow.keras.preprocessing.image import ImageDataGenerator\n",
        "from tensorflow.keras.optimizers import Adam\n",
        "\n",
        "img_height, img_width, img_channels = 100, 100, 3\n",
        "num_classes = 8\n",
        "\n",
        "\n"
      ]
    },
    {
      "cell_type": "code",
      "execution_count": null,
      "metadata": {
        "id": "9dMreUdGxts2"
      },
      "outputs": [
        {
          "name": "stderr",
          "output_type": "stream",
          "text": [
            "2024-06-02 20:54:37.787324: I tensorflow/core/common_runtime/process_util.cc:146] Creating new thread pool with default inter op setting: 2. Tune using inter_op_parallelism_threads for best performance.\n"
          ]
        },
        {
          "name": "stdout",
          "output_type": "stream",
          "text": [
            "Model: \"sequential\"\n",
            "_________________________________________________________________\n",
            " Layer (type)                Output Shape              Param #   \n",
            "=================================================================\n",
            " conv2d (Conv2D)             (None, 98, 98, 32)        896       \n",
            "                                                                 \n",
            " max_pooling2d (MaxPooling2D  (None, 49, 49, 32)       0         \n",
            " )                                                               \n",
            "                                                                 \n",
            " conv2d_1 (Conv2D)           (None, 47, 47, 64)        18496     \n",
            "                                                                 \n",
            " max_pooling2d_1 (MaxPooling  (None, 23, 23, 64)       0         \n",
            " 2D)                                                             \n",
            "                                                                 \n",
            " conv2d_2 (Conv2D)           (None, 21, 21, 128)       73856     \n",
            "                                                                 \n",
            " max_pooling2d_2 (MaxPooling  (None, 10, 10, 128)      0         \n",
            " 2D)                                                             \n",
            "                                                                 \n",
            " conv2d_3 (Conv2D)           (None, 8, 8, 128)         147584    \n",
            "                                                                 \n",
            " max_pooling2d_3 (MaxPooling  (None, 4, 4, 128)        0         \n",
            " 2D)                                                             \n",
            "                                                                 \n",
            " conv2d_4 (Conv2D)           (None, 2, 2, 256)         295168    \n",
            "                                                                 \n",
            " max_pooling2d_4 (MaxPooling  (None, 1, 1, 256)        0         \n",
            " 2D)                                                             \n",
            "                                                                 \n",
            " flatten (Flatten)           (None, 256)               0         \n",
            "                                                                 \n",
            " dense (Dense)               (None, 512)               131584    \n",
            "                                                                 \n",
            " dropout (Dropout)           (None, 512)               0         \n",
            "                                                                 \n",
            " dense_1 (Dense)             (None, 256)               131328    \n",
            "                                                                 \n",
            " dropout_1 (Dropout)         (None, 256)               0         \n",
            "                                                                 \n",
            " dense_2 (Dense)             (None, 128)               32896     \n",
            "                                                                 \n",
            " dropout_2 (Dropout)         (None, 128)               0         \n",
            "                                                                 \n",
            " dense_3 (Dense)             (None, 64)                8256      \n",
            "                                                                 \n",
            " dropout_3 (Dropout)         (None, 64)                0         \n",
            "                                                                 \n",
            " dense_4 (Dense)             (None, 8)                 520       \n",
            "                                                                 \n",
            "=================================================================\n",
            "Total params: 840,584\n",
            "Trainable params: 840,584\n",
            "Non-trainable params: 0\n",
            "_________________________________________________________________\n"
          ]
        }
      ],
      "source": [
        "model = Sequential()\n",
        "model.add(Conv2D(32, (3, 3), activation='relu', input_shape=(img_height, img_width, img_channels)))\n",
        "model.add(MaxPooling2D((2, 2)))\n",
        "#second\n",
        "model.add(Conv2D(64, (3, 3), activation='relu'))\n",
        "model.add(MaxPooling2D((2, 2)))\n",
        "#third\n",
        "model.add(Conv2D(128, (3, 3), activation='relu'))\n",
        "model.add(MaxPooling2D((2, 2)))\n",
        "#4\n",
        "model.add(Conv2D(128, (3, 3), activation='relu'))\n",
        "model.add(MaxPooling2D((2, 2)))\n",
        "#5\n",
        "model.add(Conv2D(256, (3, 3), activation='relu'))\n",
        "model.add(MaxPooling2D((2, 2)))\n",
        "\n",
        "model.add(Flatten())\n",
        "\n",
        "model.add(Dense(512, activation='relu'))\n",
        "model.add(Dropout(0.5))\n",
        "model.add(Dense(256, activation='relu'))\n",
        "model.add(Dropout(0.5))\n",
        "model.add(Dense(128, activation='relu'))\n",
        "model.add(Dropout(0.5))\n",
        "model.add(Dense(64, activation='relu'))\n",
        "model.add(Dropout(0.5))\n",
        "\n",
        "#output\n",
        "model.add(Dense(num_classes, activation='softmax'))\n",
        "\n",
        "\n",
        "model.compile(optimizer=Adam(),\n",
        "              loss='sparse_categorical_crossentropy',\n",
        "              metrics=['accuracy'])\n",
        "\n",
        "\n",
        "model.summary()\n",
        "\n",
        "\n"
      ]
    },
    {
      "cell_type": "code",
      "execution_count": null,
      "metadata": {
        "id": "YW_DFOBKK_FA"
      },
      "outputs": [
        {
          "name": "stdout",
          "output_type": "stream",
          "text": [
            "Epoch 1/15\n",
            "263/263 [==============================] - 274s 1s/step - loss: 0.8663 - accuracy: 0.6338 - val_loss: 0.7833 - val_accuracy: 0.6585\n",
            "Epoch 2/15\n",
            "263/263 [==============================] - 243s 923ms/step - loss: 0.8043 - accuracy: 0.6569 - val_loss: 0.7750 - val_accuracy: 0.6704\n",
            "Epoch 3/15\n",
            "263/263 [==============================] - 245s 933ms/step - loss: 0.7649 - accuracy: 0.6870 - val_loss: 0.6952 - val_accuracy: 0.7158\n",
            "Epoch 4/15\n",
            "263/263 [==============================] - 230s 877ms/step - loss: 0.6962 - accuracy: 0.7117 - val_loss: 0.6848 - val_accuracy: 0.7213\n",
            "Epoch 5/15\n",
            "263/263 [==============================] - 189s 718ms/step - loss: 0.6407 - accuracy: 0.7389 - val_loss: 0.6363 - val_accuracy: 0.7373\n",
            "Epoch 6/15\n",
            "263/263 [==============================] - 205s 778ms/step - loss: 0.6004 - accuracy: 0.7629 - val_loss: 0.6948 - val_accuracy: 0.7287\n",
            "Epoch 7/15\n",
            "263/263 [==============================] - 243s 925ms/step - loss: 0.5835 - accuracy: 0.7767 - val_loss: 0.7076 - val_accuracy: 0.7313\n",
            "Epoch 8/15\n",
            "263/263 [==============================] - 280s 1s/step - loss: 0.5934 - accuracy: 0.7760 - val_loss: 0.6256 - val_accuracy: 0.7780\n",
            "Epoch 9/15\n",
            "263/263 [==============================] - 267s 1s/step - loss: 0.5233 - accuracy: 0.8047 - val_loss: 0.6131 - val_accuracy: 0.7980\n",
            "Epoch 10/15\n",
            "263/263 [==============================] - 267s 1s/step - loss: 0.4853 - accuracy: 0.8258 - val_loss: 0.7265 - val_accuracy: 0.7294\n",
            "Epoch 11/15\n",
            "263/263 [==============================] - 261s 990ms/step - loss: 0.5063 - accuracy: 0.8103 - val_loss: 0.6449 - val_accuracy: 0.7601\n",
            "Epoch 12/15\n",
            "263/263 [==============================] - 247s 938ms/step - loss: 0.4317 - accuracy: 0.8413 - val_loss: 0.6806 - val_accuracy: 0.7956\n",
            "Epoch 13/15\n",
            "263/263 [==============================] - 185s 701ms/step - loss: 0.4341 - accuracy: 0.8441 - val_loss: 0.6365 - val_accuracy: 0.7941\n",
            "Epoch 14/15\n",
            "263/263 [==============================] - 179s 680ms/step - loss: 0.4041 - accuracy: 0.8550 - val_loss: 0.6298 - val_accuracy: 0.8118\n",
            "Epoch 15/15\n",
            "263/263 [==============================] - 188s 714ms/step - loss: 0.3694 - accuracy: 0.8672 - val_loss: 0.7003 - val_accuracy: 0.8101\n"
          ]
        }
      ],
      "source": [
        "history = model.fit(X_train, y_train , epochs=15,\n",
        "                    validation_data=(X_test_val , y_test_val),\n",
        "                    batch_size=64)\n",
        "#h5 format\n",
        "model.save(\"firstTry.h5\")"
      ]
    },
    {
      "cell_type": "code",
      "execution_count": null,
      "metadata": {},
      "outputs": [
        {
          "name": "stderr",
          "output_type": "stream",
          "text": [
            "2024-06-04 10:21:22.304558: I tensorflow/core/platform/cpu_feature_guard.cc:182] This TensorFlow binary is optimized to use available CPU instructions in performance-critical operations.\n",
            "To enable the following instructions: SSE4.1 SSE4.2 AVX AVX2 FMA, in other operations, rebuild TensorFlow with the appropriate compiler flags.\n",
            "2024-06-04 10:21:25.145005: I tensorflow/core/common_runtime/process_util.cc:146] Creating new thread pool with default inter op setting: 2. Tune using inter_op_parallelism_threads for best performance.\n"
          ]
        }
      ],
      "source": [
        "import tensorflow as tf\n",
        "from tensorflow import keras\n",
        "from tensorflow.keras import layers\n",
        "import numpy as np\n",
        "\n",
        "loaded_model = keras.models.load_model('firstTry.h5')"
      ]
    },
    {
      "cell_type": "code",
      "execution_count": null,
      "metadata": {
        "id": "dkhF9IZvLOu2"
      },
      "outputs": [
        {
          "name": "stdout",
          "output_type": "stream",
          "text": [
            "73/73 [==============================] - 8s 104ms/step - loss: 0.7497 - accuracy: 0.7952\n",
            "Test accuracy: 0.7952013611793518\n"
          ]
        }
      ],
      "source": [
        "test_loss, test_acc = loaded_model.evaluate(X_test, y_test)\n",
        "print(f'Test accuracy: {test_acc}')"
      ]
    },
    {
      "cell_type": "code",
      "execution_count": null,
      "metadata": {},
      "outputs": [
        {
          "name": "stdout",
          "output_type": "stream",
          "text": [
            "73/73 [==============================] - 8s 110ms/step\n"
          ]
        }
      ],
      "source": [
        "y_pred = loaded_model.predict(X_test)"
      ]
    },
    {
      "cell_type": "code",
      "execution_count": null,
      "metadata": {},
      "outputs": [
        {
          "data": {
            "text/plain": [
              "array([0, 6, 5, ..., 5, 5, 7])"
            ]
          },
          "execution_count": 25,
          "metadata": {},
          "output_type": "execute_result"
        }
      ],
      "source": [
        "np.argmax(y_pred, axis=1)"
      ]
    },
    {
      "cell_type": "code",
      "execution_count": null,
      "metadata": {},
      "outputs": [
        {
          "data": {
            "text/plain": [
              "array([0, 6, 5, ..., 5, 6, 7])"
            ]
          },
          "execution_count": 26,
          "metadata": {},
          "output_type": "execute_result"
        }
      ],
      "source": [
        "y_test"
      ]
    },
    {
      "cell_type": "code",
      "execution_count": null,
      "metadata": {},
      "outputs": [],
      "source": [
        "\n",
        "y_pred_classes = np.argmax(y_pred, axis=1)"
      ]
    },
    {
      "cell_type": "code",
      "execution_count": null,
      "metadata": {},
      "outputs": [
        {
          "name": "stdout",
          "output_type": "stream",
          "text": [
            "[[371   2   1   0   0   0   1   0]\n",
            " [  6 235  24  11   6   0  12   4]\n",
            " [  2  27 194  23   0   0   2   1]\n",
            " [  4  17  29 212   1   0   3   0]\n",
            " [  0  15   0   0 212   5  41  25]\n",
            " [  1   9   1   2   7 215  86   9]\n",
            " [  0   6   1   1  11  40 200  11]\n",
            " [  1   3   3   2  15   0   7 217]]\n"
          ]
        },
        {
          "data": {
            "image/png": "[encoded data removed]",
            "text/plain": [
              "<Figure size 640x480 with 2 Axes>"
            ]
          },
          "metadata": {},
          "output_type": "display_data"
        }
      ],
      "source": [
        "from sklearn import metrics \n",
        "import seaborn as sns\n",
        "import matplotlib.pyplot as plt\n",
        "cm = metrics.confusion_matrix(y_test, y_pred_classes)\n",
        "print(cm)\n",
        "# Plot the confusion matrix\n",
        " \n",
        "#sns.heatmap(cm, annot=True, fmt='d')\n",
        "cm_display = metrics.ConfusionMatrixDisplay(confusion_matrix = cm )\n",
        "\n",
        "cm_display.plot()\n",
        "plt.show()\n",
        " "
      ]
    },
    {
      "cell_type": "code",
      "execution_count": 52,
      "metadata": {},
      "outputs": [],
      "source": [
        "labels = ['microcontrolador', 'resistencia', 'rele', 'transistor', 'diodo',\n",
        "       'sensor', 'capacitor', 'servomotor']"
      ]
    },
    {
      "cell_type": "code",
      "execution_count": null,
      "metadata": {},
      "outputs": [
        {
          "name": "stdout",
          "output_type": "stream",
          "text": [
            "Accuracy: 0.7952013710368466\n",
            "Precision: 0.796571594829595\n",
            "Recall: 0.7915872715819608\n",
            "Specificity: 0.7915872715819608\n",
            "F1_score: 0.7903552474910788\n"
          ]
        }
      ],
      "source": [
        "print(f\"Accuracy: {metrics.accuracy_score(y_test,y_pred_classes)}\")\n",
        "print(f\"Precision: {metrics.precision_score(y_test,y_pred_classes , average='macro')}\")\n",
        "print(f\"Recall: {metrics.recall_score(y_test,y_pred_classes , average='macro')}\")\n",
        "print(f\"Specificity: {metrics.recall_score(y_test,y_pred_classes,  average='macro')}\")\n",
        "print(f\"F1_score: {metrics.f1_score(y_test,y_pred_classes ,average='macro')}\")"
      ]
    },
    {
      "cell_type": "code",
      "execution_count": null,
      "metadata": {},
      "outputs": [],
      "source": []
    }
  ],
  "metadata": {
    "accelerator": "GPU",
    "colab": {
      "gpuType": "T4",
      "provenance": []
    },
    "kernelspec": {
      "display_name": "Python 3",
      "name": "python3"
    },
    "language_info": {
      "codemirror_mode": {
        "name": "ipython",
        "version": 3
      },
      "file_extension": ".py",
      "mimetype": "text/x-python",
      "name": "python",
      "nbconvert_exporter": "python",
      "pygments_lexer": "ipython3",
      "version": "3.10.13"
    }
  },
  "nbformat": 4,
  "nbformat_minor": 0
}
